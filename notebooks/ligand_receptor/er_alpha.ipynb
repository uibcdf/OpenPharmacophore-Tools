{
 "cells": [
  {
   "cell_type": "code",
   "execution_count": 1,
   "id": "93a9a81c-92ab-4d87-934e-6a21e5d30d26",
   "metadata": {},
   "outputs": [
    {
     "data": {
      "application/vnd.jupyter.widget-view+json": {
       "model_id": "02fd3b405660439093c3cb6f78ed5b55",
       "version_major": 2,
       "version_minor": 0
      },
      "text/plain": []
     },
     "metadata": {},
     "output_type": "display_data"
    }
   ],
   "source": [
    "import openpharmacophore as oph"
   ]
  },
  {
   "cell_type": "markdown",
   "id": "463c7639-33ae-4b96-89da-01b715a4deae",
   "metadata": {},
   "source": [
    "# Pharmacophore of ERalpha\n",
    "\n",
    "We extract a ligand-receptor based pharmacophore for each of the 1000 frames of the MD trajectory of the protein-ligand complex\n",
    "of estrogen receptor complexed with estradiol"
   ]
  },
  {
   "cell_type": "code",
   "execution_count": 2,
   "id": "f8822462-a0f7-46f7-9a5b-9e9040cf4618",
   "metadata": {},
   "outputs": [
    {
     "name": "stderr",
     "output_type": "stream",
     "text": [
      "/home/daniel/miniconda3/envs/molsys/lib/python3.7/site-packages/mdtraj/core/trajectory.py:438: UserWarning: top= kwargs ignored since this file parser does not support it\n",
      "  warnings.warn('top= kwargs ignored since this file parser does not support it')\n"
     ]
    },
    {
     "name": "stdout",
     "output_type": "stream",
     "text": [
      "Trajectory has 1000 frames\n",
      "[':B']\n"
     ]
    }
   ],
   "source": [
    "pharmacophore = oph.load(\"ERalpha.h5\")\n",
    "print(f\"Trajectory has {pharmacophore.receptor.traj.n_frames} frames\")\n",
    "lig_ids = pharmacophore.receptor.ligand_ids\n",
    "print(lig_ids)"
   ]
  },
  {
   "cell_type": "code",
   "execution_count": 3,
   "id": "6d6c02e1-4479-4fac-ad41-102061758254",
   "metadata": {},
   "outputs": [],
   "source": [
    "pharmacophore.extract(lig_ids[0],\n",
    "                      frames=list(range(0,1000)),\n",
    "                      add_hydrogens=False,\n",
    "                      smiles=\"C[C@]12CC[C@@H]3c4ccc(cc4CC[C@H]3[C@@H]1CC[C@@H]2O)O\")"
   ]
  },
  {
   "cell_type": "code",
   "execution_count": 4,
   "id": "f2f4bcf0-492a-4117-8711-add987610af4",
   "metadata": {},
   "outputs": [
    {
     "name": "stdout",
     "output_type": "stream",
     "text": [
      "Extracted 1000 pharmacophores\n"
     ]
    }
   ],
   "source": [
    "n_pharma = len(pharmacophore)\n",
    "print(f\"Extracted {n_pharma} pharmacophores\")"
   ]
  },
  {
   "cell_type": "code",
   "execution_count": 5,
   "id": "d5a1ea87-8de2-47a5-9de5-a2c01579c800",
   "metadata": {},
   "outputs": [
    {
     "data": {
      "image/png": "[encoded data removed]",
      "text/plain": [
       "<rdkit.Chem.rdchem.Mol at 0x7f983d64bb70>"
      ]
     },
     "execution_count": 5,
     "metadata": {},
     "output_type": "execute_result"
    }
   ],
   "source": [
    "pharmacophore.receptor.ligand"
   ]
  },
  {
   "cell_type": "code",
   "execution_count": 6,
   "id": "b55685c3-d038-4a7c-b7ca-8e43513a98c3",
   "metadata": {},
   "outputs": [],
   "source": [
    "from ipywidgets import interact, fixed, IntSlider"
   ]
  },
  {
   "cell_type": "code",
   "execution_count": 7,
   "id": "abeae381-20b3-4f0e-b2e6-49acb5c1ab98",
   "metadata": {},
   "outputs": [],
   "source": [
    "def view_frame(pharma, frame):\n",
    "    \"\"\" Return a view of the pharmacophore at the given frame.\"\"\"\n",
    "    return pharma.show(frame=frame)\n",
    "\n",
    "\n",
    "def interactive_view(pharma):\n",
    "    \"\"\" Returns a view of the pharmacophore with a slider to select\n",
    "        the desired frame.\n",
    "    \"\"\"\n",
    "    slider = IntSlider(min=0, max=pharma.num_frames-1, step=1, value=0)\n",
    "    interact(view_frame, pharma=fixed(pharma), frame=slider)"
   ]
  },
  {
   "cell_type": "code",
   "execution_count": 8,
   "id": "35a65dbb-636f-4065-a86b-350a70d8d8ee",
   "metadata": {},
   "outputs": [
    {
     "data": {
      "application/vnd.jupyter.widget-view+json": {
       "model_id": "b53cb688ba0e4ff6a5a842c731bb1550",
       "version_major": 2,
       "version_minor": 0
      },
      "text/plain": [
       "interactive(children=(IntSlider(value=0, description='frame', max=999), Output()), _dom_classes=('widget-inter…"
      ]
     },
     "metadata": {},
     "output_type": "display_data"
    }
   ],
   "source": [
    "interactive_view(pharmacophore)"
   ]
  }
 ],
 "metadata": {
  "kernelspec": {
   "display_name": "Python 3 (ipykernel)",
   "language": "python",
   "name": "python3"
  },
  "language_info": {
   "codemirror_mode": {
    "name": "ipython",
    "version": 3
   },
   "file_extension": ".py",
   "mimetype": "text/x-python",
   "name": "python",
   "nbconvert_exporter": "python",
   "pygments_lexer": "ipython3",
   "version": "3.7.12"
  }
 },
 "nbformat": 4,
 "nbformat_minor": 5
}
